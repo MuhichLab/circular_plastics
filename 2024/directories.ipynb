{
 "cells": [
  {
   "cell_type": "code",
   "execution_count": null,
   "id": "9974577f-332c-413a-8549-a6d952a530bf",
   "metadata": {},
   "outputs": [],
   "source": [
    "! mkdir /scratch/cmuhich/gamess"
   ]
  },
  {
   "cell_type": "code",
   "execution_count": null,
   "id": "1a7c60d7-a3ea-4de7-89fb-988da1a11fff",
   "metadata": {},
   "outputs": [],
   "source": [
    "! mkdir /scratch/cmuhich/gamess/restart"
   ]
  },
  {
   "cell_type": "code",
   "execution_count": null,
   "id": "8da00bfb-765d-47d6-8330-b0d1867ae890",
   "metadata": {},
   "outputs": [],
   "source": [
    "! mkdir /home/cmuhich/gamess_scr"
   ]
  }
 ],
 "metadata": {
  "kernelspec": {
   "display_name": "Python 3 (ipykernel)",
   "language": "python",
   "name": "python3"
  },
  "language_info": {
   "codemirror_mode": {
    "name": "ipython",
    "version": 3
   },
   "file_extension": ".py",
   "mimetype": "text/x-python",
   "name": "python",
   "nbconvert_exporter": "python",
   "pygments_lexer": "ipython3",
   "version": "3.11.6"
  }
 },
 "nbformat": 4,
 "nbformat_minor": 5
}
