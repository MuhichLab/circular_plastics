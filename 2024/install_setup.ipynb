{
 "cells": [
  {
   "cell_type": "code",
   "execution_count": null,
   "id": "57b77172-66f3-42bf-9985-ab03cf900c4f",
   "metadata": {},
   "outputs": [],
   "source": [
    "pip install ase"
   ]
  },
  {
   "cell_type": "code",
   "execution_count": null,
   "id": "3288ec5e-30db-436b-9278-528cb19a37ea",
   "metadata": {},
   "outputs": [],
   "source": [
    "pip install \"anywidget[dev]\""
   ]
  },
  {
   "cell_type": "code",
   "execution_count": null,
   "id": "eca77476-0c46-4f25-99d1-065d90e37226",
   "metadata": {},
   "outputs": [],
   "source": [
    "pip install weas-widget"
   ]
  }
 ],
 "metadata": {
  "kernelspec": {
   "display_name": "Python 3 (ipykernel)",
   "language": "python",
   "name": "python3"
  },
  "language_info": {
   "codemirror_mode": {
    "name": "ipython",
    "version": 3
   },
   "file_extension": ".py",
   "mimetype": "text/x-python",
   "name": "python",
   "nbconvert_exporter": "python",
   "pygments_lexer": "ipython3",
   "version": "3.11.6"
  }
 },
 "nbformat": 4,
 "nbformat_minor": 5
}
