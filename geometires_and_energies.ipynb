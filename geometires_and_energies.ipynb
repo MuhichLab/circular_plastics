{
 "cells": [
  {
   "cell_type": "code",
   "execution_count": 17,
   "id": "476d856b-16b4-436e-a2b3-995f751f6bcf",
   "metadata": {},
   "outputs": [
    {
     "name": "stdout",
     "output_type": "stream",
     "text": [
      "Converted value: 4\n"
     ]
    }
   ],
   "source": [
    "#start here this initializes the required modules\n",
    "\n",
    "import os\n",
    "import glob\n",
    "import numpy as np\n",
    "import matplotlib.pyplot as plt\n",
    "import ase\n",
    "from ase.io import read\n",
    "from ase.build import molecule\n",
    "from ase.io import gamess_us\n",
    "from ase.io.gamess_us import read_gamess_us_out\n",
    "from ase.visualize import view\n",
    "from ase.build import molecule\n",
    "from weas_widget import WeasWidget\n",
    "from ase.calculators.gamess_us import GAMESSUS\n",
    "from ase.io import write\n",
    "import re\n",
    "\n",
    "#now determine how many cores we have\n",
    "ncor = ! nproc\n",
    "\n",
    "slist_string = \" \".join(ncor)\n",
    "try:\n",
    "    integer_value = int(slist_string)\n",
    "    print(\"Converted value:\", integer_value)\n",
    "except ValueError:\n",
    "    print(\"Unable to convert to integer:\", slist_string)\n",
    "\n",
    "ncor=integer_value\n",
    "\n",
    "def clean_for_new_job(name):\n",
    "\n",
    "    # clean up output name in current folder\n",
    "    nameout= name + '.out'\n",
    "    if os.path.exists(nameout):\n",
    "        # If the file exists, delete it\n",
    "        os.remove(nameout)\n",
    "        print(f\"{nameout} has been deleted.\")\n",
    "\n",
    "    #clean output in extra folders\n",
    "\n",
    "    # Specify the directory path where the files are located\n",
    "    directory_path = \"/scratch/cmuhich/gamess/restart\"\n",
    "\n",
    "    # Specify the pattern of files you want to delete using wildcard characters\n",
    "    pattern = name + \".*\"  # Example pattern, you can modify it as needed\n",
    "\n",
    "    # Combine the directory path and pattern to form the full pattern\n",
    "    full_pattern = os.path.join(directory_path, pattern)\n",
    "\n",
    "    # Get a list of file paths that match the full pattern\n",
    "    file_paths = glob.glob(full_pattern)\n",
    "\n",
    "    # Check if there are any files matching the pattern\n",
    "    if file_paths:\n",
    "        # Iterate through the list of file paths\n",
    "        for file_path in file_paths:\n",
    "            # Delete each file\n",
    "            os.remove(file_path)\n",
    "            print(f\"{file_path} has been deleted.\")\n",
    "    else:\n",
    "        print(f\"No files matching the pattern {pattern} were found in {directory_path}.\")\n",
    "\n",
    "    directory_path = \"/home/cmuhich/gamess_scr\"\n",
    "\n",
    "    # Combine the directory path and pattern to form the full pattern\n",
    "    full_pattern = os.path.join(directory_path, pattern)\n",
    "\n",
    "    # Get a list of file paths that match the full pattern\n",
    "    file_paths = glob.glob(full_pattern)\n",
    "\n",
    "    # Check if there are any files matching the pattern\n",
    "    if file_paths:\n",
    "        # Iterate through the list of file paths\n",
    "        for file_path in file_paths:\n",
    "            # Delete each file\n",
    "            os.remove(file_path)\n",
    "            print(f\"{file_path} has been deleted.\")\n",
    "    else:\n",
    "        print(f\"No files matching the pattern {pattern} were found in {directory_path}.\")\n",
    "\n",
    "\n",
    "def get_energy(filename):\n",
    "    with open(filename, 'r') as f:\n",
    "        lines = f.readlines()\n",
    "\n",
    "    energy_pattern = re.compile(r\"TOTAL ENERGY =\\s+([-+]?\\d*\\.\\d+|\\d+)\")\n",
    "    energies = []\n",
    "    for line in lines:\n",
    "        match = energy_pattern.search(line)\n",
    "        if match:\n",
    "            energy = float(match.group(1))\n",
    "            energies.append(energy)\n",
    "    \n",
    "    \n",
    "    if energies:\n",
    "        print(\"Final Energies:\")\n",
    "        for i, energy in enumerate(energies, start=1):\n",
    "            print(f\"Run {i}: {energy} Hartree\")\n",
    "    else:\n",
    "        print(\"No energy information found in the output file.\")\n",
    "    \n",
    "    \n",
    "    return energies\n",
    "\n",
    "def get_energy_at_a_temp(e,h_correction):\n",
    "    conversion_factor = 2625.5002\n",
    "    energy_kj = e * conversion_factor\n",
    "    energy=energy_kj+h_correction\n",
    "    return energy\n"
   ]
  },
  {
   "cell_type": "code",
   "execution_count": 2,
   "id": "1a79a3e3-1322-4ba4-b34d-78a86248d809",
   "metadata": {},
   "outputs": [
    {
     "data": {
      "application/vnd.jupyter.widget-view+json": {
       "model_id": "e3ca57dd3afe4caf892887c428c716d9",
       "version_major": 2,
       "version_minor": 0
      },
      "text/plain": [
       "WeasWidget(atomScales=[1, 1, 1, 1, 1, 1, 1, 1, 1, 1, 1, 1], atoms={'species': {'C': ['C', 6], 'H': ['H', 1]}, …"
      ]
     },
     "execution_count": 2,
     "metadata": {},
     "output_type": "execute_result"
    }
   ],
   "source": [
    "# pull up GUI for design\n",
    "atoms = molecule(\"C6H6\")\n",
    "viewer = WeasWidget()\n",
    "viewer.from_ase(atoms)\n",
    "viewer\n",
    "\n",
    "#atom manipulation:\n",
    "# click atom or group (using the shift key)\n",
    "# to move press \"g\" then do the motion\n",
    "#to rotate press \"r\" then do the motion\n",
    "# to duplicate press \"d\" \n",
    "# to delete press the delete key"
   ]
  },
  {
   "cell_type": "code",
   "execution_count": 3,
   "id": "0209f66a-54b9-4a7b-9856-9af3ee219ad6",
   "metadata": {},
   "outputs": [],
   "source": [
    "# store information\n",
    "atoms=viewer.to_ase()"
   ]
  },
  {
   "cell_type": "code",
   "execution_count": 4,
   "id": "6763af23-b836-47c5-ba27-5fbf75bf09b3",
   "metadata": {},
   "outputs": [],
   "source": [
    "#make calcuation choices\n",
    "calc = GAMESSUS(contrl=dict(scftyp='rhf', dfttyp='blyp', runtyp='optimize'),\n",
    "                basis=dict(gbasis='n31', ngauss=6, ndfunc=1, npfunc=1),\n",
    "               statpt=dict(nstep=20))"
   ]
  },
  {
   "cell_type": "code",
   "execution_count": 5,
   "id": "b9963626-a5d9-458d-9049-cea77712adee",
   "metadata": {},
   "outputs": [
    {
     "name": "stdout",
     "output_type": "stream",
     "text": [
      "benzene.out has been deleted.\n",
      "No files matching the pattern benzene.* were found in /scratch/cmuhich/gamess/restart.\n",
      "/home/cmuhich/gamess_scr/benzene.dat has been deleted.\n",
      "cp ./benzene.inp /scratch/cmuhich/gamess_scr/benzene.F05\n",
      "unset echo\n",
      "/home/onwokonk/gamess_basic/ddikick.x /home/onwokonk/gamess_basic/gamess.00.x benzene -ddi 1 4 c008.sol.rc.asu.edu:cpus=4 -scr /scratch/cmuhich/gamess_scr\n",
      "Note: The following floating-point exceptions are signalling: IEEE_UNDERFLOW_FLAG IEEE_DENORMAL\n",
      "Note: The following floating-point exceptions are signalling: IEEE_UNDERFLOW_FLAG IEEE_DENORMAL\n",
      "Note: The following floating-point exceptions are signalling: IEEE_UNDERFLOW_FLAG IEEE_DENORMAL\n",
      "Note: The following floating-point exceptions are signalling: IEEE_UNDERFLOW_FLAG IEEE_DENORMAL\n",
      "unset echo\n",
      "ls: No match.\n",
      "ls: No match.\n",
      "ls: No match.\n"
     ]
    }
   ],
   "source": [
    "#select name and run job\n",
    "\n",
    "name='benzene'\n",
    "namein= name + '.inp'\n",
    "nameout= name + '.out'\n",
    "\n",
    "\n",
    "atoms.set_calculator(calc)\n",
    "calc.write_input( atoms)\n",
    "! mv gamess_us.inp $namein\n",
    "\n",
    "clean_for_new_job(name)\n",
    "\n",
    "! ~/bin/rungms_basic $namein 00 $ncor > $nameout"
   ]
  },
  {
   "cell_type": "code",
   "execution_count": 6,
   "id": "42d2d8a4-6991-4fb6-9944-353cb54e5b07",
   "metadata": {},
   "outputs": [
    {
     "name": "stdout",
     "output_type": "stream",
     "text": [
      "Final Energies:\n",
      "Run 1: -232.1409615324 Hartree\n",
      "Run 2: -232.1417810194 Hartree\n"
     ]
    }
   ],
   "source": [
    "energies=get_energy(nameout)\n"
   ]
  },
  {
   "cell_type": "code",
   "execution_count": 7,
   "id": "fdec03a4-f138-4de8-b1cd-3546646e5bbf",
   "metadata": {},
   "outputs": [
    {
     "name": "stdout",
     "output_type": "stream",
     "text": [
      " BEGINNING GEOMETRY SEARCH POINT NSERCH=   0 ...\n",
      "          NSERCH=  0     ENERGY=    -232.1409615\n",
      " NSERCH:   0  E=     -232.1409615324  GRAD. MAX=  0.0061279  R.M.S.=  0.0031053\n",
      " BEGINNING GEOMETRY SEARCH POINT NSERCH=   1 ...\n",
      "          NSERCH=  1     ENERGY=    -232.1416309\n",
      " NSERCH:   1  E=     -232.1416309379  GRAD. MAX=  0.0031385  R.M.S.=  0.0014151\n",
      " BEGINNING GEOMETRY SEARCH POINT NSERCH=   2 ...\n",
      "          NSERCH=  2     ENERGY=    -232.1417808\n",
      " NSERCH:   2  E=     -232.1417807738  GRAD. MAX=  0.0002069  R.M.S.=  0.0000979\n",
      " BEGINNING GEOMETRY SEARCH POINT NSERCH=   3 ...\n",
      "          NSERCH=  3     ENERGY=    -232.1417810\n",
      " NSERCH:   3  E=     -232.1417810194  GRAD. MAX=  0.0000759  R.M.S.=  0.0000226\n"
     ]
    }
   ],
   "source": [
    "! grep NSERCH $nameout"
   ]
  },
  {
   "cell_type": "code",
   "execution_count": 8,
   "id": "94f567ad-15bf-46c8-ba0c-088f5ad9dc80",
   "metadata": {},
   "outputs": [
    {
     "data": {
      "application/vnd.jupyter.widget-view+json": {
       "model_id": "e3ca57dd3afe4caf892887c428c716d9",
       "version_major": 2,
       "version_minor": 0
      },
      "text/plain": [
       "WeasWidget(atomScales=[1, 1, 1, 1, 1, 1, 1, 1, 1, 1, 1, 1], atoms={'species': {'C': ['C', 6], 'H': ['H', 1]}, …"
      ]
     },
     "execution_count": 8,
     "metadata": {},
     "output_type": "execute_result"
    }
   ],
   "source": [
    "atom = ase.io.read(nameout)\n",
    "viewer.from_ase(atom)\n",
    "viewer"
   ]
  },
  {
   "cell_type": "code",
   "execution_count": null,
   "id": "963ad88a-cedd-407f-bf71-bab874a9f455",
   "metadata": {},
   "outputs": [],
   "source": [
    "atoms=viewer.to_ase()"
   ]
  },
  {
   "cell_type": "code",
   "execution_count": 24,
   "id": "7c717c5d-e7d0-4c7e-b296-9a9258189e4f",
   "metadata": {},
   "outputs": [
    {
     "name": "stdout",
     "output_type": "stream",
     "text": [
      "Number of position sets: 12\n",
      "Position set 1:\n",
      "[[ 0.          1.3952479   0.        ]\n",
      " [ 1.20831991  0.69762395  0.        ]\n",
      " [ 1.20831991 -0.69762395  0.        ]\n",
      " [ 0.         -1.3952479   0.        ]\n",
      " [-1.20831991 -0.69762395  0.        ]\n",
      " [-1.20831991  0.69762395  0.        ]\n",
      " [ 0.          2.48235982  0.        ]\n",
      " [ 2.14978684  1.24117991  0.        ]\n",
      " [ 2.14978684 -1.24117991  0.        ]\n",
      " [ 0.         -2.48235982  0.        ]\n",
      " [-2.14978684 -1.24117991  0.        ]\n",
      " [-2.14978684  1.24117991  0.        ]]\n",
      "\n",
      "Number of position sets: 12\n",
      "Position set 1:\n",
      "[[ 0.          1.3952479   0.        ]\n",
      " [ 1.20831991  0.69762395  0.        ]\n",
      " [ 1.20831991 -0.69762395  0.        ]\n",
      " [ 0.         -1.3952479   0.        ]\n",
      " [-1.20831991 -0.69762395  0.        ]\n",
      " [-1.20831991  0.69762395  0.        ]\n",
      " [ 0.          2.48235982  0.        ]\n",
      " [ 2.14978684  1.24117991  0.        ]\n",
      " [ 2.14978684 -1.24117991  0.        ]\n",
      " [ 0.         -2.48235982  0.        ]\n",
      " [-2.14978684 -1.24117991  0.        ]\n",
      " [-2.14978684  1.24117991  0.        ]]\n",
      "\n"
     ]
    }
   ],
   "source": [
    "atom = ase.io.iread(nameout)\n",
    "\n",
    "\n",
    "num_positions_sets = len(atoms)\n",
    "print(\"Number of position sets:\", num_positions_sets)\n",
    "\n",
    "\n",
    "\n",
    "for i, frame in enumerate(atom, start=1):\n",
    "    print(f\"Position set {i}:\")\n",
    "    print(frame.positions)\n",
    "    print()\n",
    "\n",
    "atom = ase.io.iread(nameout)\n",
    "\n",
    "\n",
    "num_positions_sets = len(atoms)\n",
    "print(\"Number of position sets:\", num_positions_sets)\n",
    "\n",
    "\n",
    "\n",
    "for i, frame in enumerate(atom, start=1):\n",
    "    print(f\"Position set {i}:\")\n",
    "    print(frame.positions)\n",
    "    print()\n",
    "    \n",
    "\n",
    "#atom.get_positions()"
   ]
  },
  {
   "cell_type": "code",
   "execution_count": 10,
   "id": "ccecdcd5-9b5e-4963-b8d5-16dcfec7183c",
   "metadata": {},
   "outputs": [
    {
     "name": "stdout",
     "output_type": "stream",
     "text": [
      "hessian.out has been deleted.\n",
      "No files matching the pattern hessian.* were found in /scratch/cmuhich/gamess/restart.\n",
      "/home/cmuhich/gamess_scr/hessian.dat has been deleted.\n",
      "cp ./hessian.inp /scratch/cmuhich/gamess_scr/hessian.F05\n",
      "unset echo\n",
      "/home/onwokonk/gamess_basic/ddikick.x /home/onwokonk/gamess_basic/gamess.00.x hessian -ddi 1 4 c008.sol.rc.asu.edu:cpus=4 -scr /scratch/cmuhich/gamess_scr\n",
      "Note: The following floating-point exceptions are signalling: IEEE_UNDERFLOW_FLAG IEEE_DENORMAL\n",
      "Note: The following floating-point exceptions are signalling: IEEE_UNDERFLOW_FLAG IEEE_DENORMAL\n",
      "Note: The following floating-point exceptions are signalling: IEEE_UNDERFLOW_FLAG IEEE_DENORMAL\n",
      "Note: The following floating-point exceptions are signalling: IEEE_UNDERFLOW_FLAG IEEE_DENORMAL\n",
      "unset echo\n",
      "ls: No match.\n",
      "ls: No match.\n",
      "ls: No match.\n"
     ]
    }
   ],
   "source": [
    "#vibrational spectra\n",
    "\n",
    "\n",
    "#make calcuation choices\n",
    "calc = GAMESSUS(contrl=dict(scftyp='rhf', dfttyp='blyp', runtyp='Hessian'),\n",
    "                basis=dict(gbasis='n31', ngauss=6, ndfunc=1, npfunc=1),\n",
    "                force=dict( METHOD='SEMINUM') )\n",
    "\n",
    "\n",
    "#select name and run job\n",
    "\n",
    "name='hessian'\n",
    "namein= name + '.inp'\n",
    "nameout= name + '.out'\n",
    "\n",
    "\n",
    "atoms.set_calculator(calc)\n",
    "calc.write_input( atoms)\n",
    "! mv gamess_us.inp $namein\n",
    "\n",
    "clean_for_new_job(name)\n",
    "\n",
    "! ~/bin/rungms_basic $namein 00 $ncor > $nameout\n"
   ]
  },
  {
   "cell_type": "code",
   "execution_count": 12,
   "id": "cb9d64e9-c1cf-453f-9e33-9abc112ee0f6",
   "metadata": {},
   "outputs": [
    {
     "name": "stdout",
     "output_type": "stream",
     "text": [
      "       FREQUENCY:        96.86       96.36       96.36        0.03        0.02  \n",
      "       FREQUENCY:         0.01      381.27      381.72      602.28      603.82  \n",
      "       FREQUENCY:       638.85      690.00      813.31      814.09      918.12  \n",
      "       FREQUENCY:       918.21      960.80      993.78     1016.32     1040.67  \n",
      "       FREQUENCY:      1047.36     1147.97     1170.09     1174.78     1335.41  \n",
      "       FREQUENCY:      1383.01     1488.73     1493.97     1625.68     1629.82  \n",
      "       FREQUENCY:      3143.90     3153.10     3153.96     3168.89     3169.70  \n",
      "       FREQUENCY:      3180.47  \n",
      "    IR INTENSITY:      0.00000     0.00000     0.00000     0.00000     0.00000\n",
      "    IR INTENSITY:      0.00000     0.00000     0.00000     0.00000     0.00000\n",
      "    IR INTENSITY:      1.47712     0.00000     0.00000     0.00000     0.00000\n",
      "    IR INTENSITY:      0.00000     0.00000     0.00002     0.00000     0.07726\n",
      "    IR INTENSITY:      0.07643     0.00006     0.00000     0.00000     0.00000\n",
      "    IR INTENSITY:      0.00005     0.10272     0.10418     0.00000     0.00000\n",
      "    IR INTENSITY:      0.00092     0.00000     0.00000     1.33851     1.33808\n",
      "    IR INTENSITY:      0.00000\n"
     ]
    }
   ],
   "source": [
    "#this will tell you the frequencies in cm-1\n",
    "! grep 'FREQUENCY' $nameout\n",
    "\n",
    "!grep 'IR INTENSITY' $nameout"
   ]
  },
  {
   "cell_type": "code",
   "execution_count": 16,
   "id": "828152cb-1bc6-4233-b80d-585ee83870e0",
   "metadata": {},
   "outputs": [
    {
     "name": "stdout",
     "output_type": "stream",
     "text": [
      "        0.098508 HARTREE/MOLECULE    21620.050337 CM**-1/MOLECULE \n",
      "       61.814888 KCAL/MOL              258.633491 KJ/MOL\n",
      "\n",
      "               Q               LN Q\n",
      " ELEC.     1.00000E+00       0.000000\n",
      " TRANS.    2.71011E+07      17.115087\n",
      " ROT.      9.02677E+04      11.410535\n",
      " VIB.      1.93327E+00       0.659213\n",
      " TOT.      4.72947E+12      29.184835\n",
      "\n",
      "              E         H         G         CV        CP        S\n",
      "           KJ/MOL    KJ/MOL    KJ/MOL   J/MOL-K   J/MOL-K   J/MOL-K\n",
      " ELEC.      0.000     0.000     0.000     0.000     0.000     0.000\n",
      " TRANS.     3.718     6.197   -42.427    12.472    20.786   163.088\n",
      " ROT.       3.718     3.718   -28.286    12.472    12.472   107.343\n",
      " VIB.     263.222   263.222   256.999    50.578    50.578    20.869\n",
      " TOTAL    270.658   273.137   186.286    75.521    83.836   291.301\n",
      " VIB. THERMAL CORRECTION E(T)-E(0) = H(T)-H(0) =      4588.077 J/MOL\n",
      "\n",
      "              E         H         G         CV        CP        S\n",
      "         KCAL/MOL  KCAL/MOL  KCAL/MOL CAL/MOL-K CAL/MOL-K CAL/MOL-K\n",
      " ELEC.      0.000     0.000     0.000     0.000     0.000     0.000\n",
      " TRANS.     0.889     1.481   -10.140     2.981     4.968    38.979\n",
      " ROT.       0.889     0.889    -6.761     2.981     2.981    25.656\n",
      " VIB.      62.911    62.911    61.424    12.088    12.088     4.988\n",
      " TOTAL     64.689    65.281    44.523    18.050    20.037    69.623\n",
      " VIB. THERMAL CORRECTION E(T)-E(0) = H(T)-H(0) =      1096.577 CAL/MOL\n",
      "\n",
      "     *******************************************************\n",
      "     * THIS IS NOT A STATIONARY POINT ON THE MOLECULAR PES *\n"
     ]
    }
   ],
   "source": [
    "! grep -C 10 'E         H         G         CV        CP        S' $nameout"
   ]
  },
  {
   "cell_type": "code",
   "execution_count": 23,
   "id": "032e9d17-412a-490f-a1e1-77737d78a902",
   "metadata": {},
   "outputs": [
    {
     "name": "stdout",
     "output_type": "stream",
     "text": [
      "Final Energies:\n",
      "Run 1: -232.1409615324 Hartree\n",
      "the energy in kJ/mol is: -609213.0039315085\n"
     ]
    }
   ],
   "source": [
    "energies=get_energy(nameout)\n",
    "\n",
    "#type in the energy from the above table\n",
    "correction=273.137\n",
    "\n",
    "energy_at_temp=get_energy_at_a_temp(energies[0],correction)\n",
    "print('the energy in kJ/mol is:', energy_at_temp)"
   ]
  },
  {
   "cell_type": "code",
   "execution_count": null,
   "id": "6756bed6-e259-4cae-a6fd-225c1856a9be",
   "metadata": {},
   "outputs": [],
   "source": []
  }
 ],
 "metadata": {
  "kernelspec": {
   "display_name": "Python 3 (ipykernel)",
   "language": "python",
   "name": "python3"
  },
  "language_info": {
   "codemirror_mode": {
    "name": "ipython",
    "version": 3
   },
   "file_extension": ".py",
   "mimetype": "text/x-python",
   "name": "python",
   "nbconvert_exporter": "python",
   "pygments_lexer": "ipython3",
   "version": "3.11.6"
  }
 },
 "nbformat": 4,
 "nbformat_minor": 5
}
