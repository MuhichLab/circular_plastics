{
 "cells": [
  {
   "cell_type": "code",
   "execution_count": 4,
   "id": "eff797da-0100-4bbc-ab08-40e52e20e890",
   "metadata": {
    "jupyter": {
     "source_hidden": true
    }
   },
   "outputs": [
    {
     "name": "stdout",
     "output_type": "stream",
     "text": [
      "Converted value: 4\n"
     ]
    }
   ],
   "source": [
    "#start here this initializes the required modules\n",
    "\n",
    "import os\n",
    "import glob\n",
    "import numpy as np\n",
    "import matplotlib.pyplot as plt\n",
    "import ase\n",
    "from ase import Atoms\n",
    "from ase.io import read\n",
    "from ase.build import molecule\n",
    "from ase.io import gamess_us\n",
    "from ase.io.gamess_us import read_gamess_us_out\n",
    "from ase.visualize import view\n",
    "from ase.build import molecule\n",
    "from weas_widget import WeasWidget\n",
    "from ase.calculators.gamess_us import GAMESSUS\n",
    "from ase.io import write\n",
    "import re\n",
    "\n",
    "#now determine how many cores we have\n",
    "ncor = ! nproc\n",
    "\n",
    "slist_string = \" \".join(ncor)\n",
    "try:\n",
    "    integer_value = int(slist_string)\n",
    "    print(\"Converted value:\", integer_value)\n",
    "except ValueError:\n",
    "    print(\"Unable to convert to integer:\", slist_string)\n",
    "\n",
    "ncor=integer_value\n",
    "\n",
    "def clean_for_new_job(name):\n",
    "\n",
    "    # clean up output name in current folder\n",
    "    nameout= name + '.out'\n",
    "    if os.path.exists(nameout):\n",
    "        # If the file exists, delete it\n",
    "        os.remove(nameout)\n",
    "        print(f\"{nameout} has been deleted.\")\n",
    "\n",
    "    #clean output in extra folders\n",
    "\n",
    "    # Specify the directory path where the files are located\n",
    "    directory_path = \"/scratch/cmuhich/gamess/restart\"\n",
    "\n",
    "    # Specify the pattern of files you want to delete using wildcard characters\n",
    "    pattern = name + \".*\"  # Example pattern, you can modify it as needed\n",
    "\n",
    "    # Combine the directory path and pattern to form the full pattern\n",
    "    full_pattern = os.path.join(directory_path, pattern)\n",
    "\n",
    "    # Get a list of file paths that match the full pattern\n",
    "    file_paths = glob.glob(full_pattern)\n",
    "\n",
    "    # Check if there are any files matching the pattern\n",
    "    if file_paths:\n",
    "        # Iterate through the list of file paths\n",
    "        for file_path in file_paths:\n",
    "            # Delete each file\n",
    "            os.remove(file_path)\n",
    "            print(f\"{file_path} has been deleted.\")\n",
    "    else:\n",
    "        print(f\"No files matching the pattern {pattern} were found in {directory_path}.\")\n",
    "\n",
    "    directory_path = \"/home/cmuhich/gamess_scr\"\n",
    "\n",
    "    # Combine the directory path and pattern to form the full pattern\n",
    "    full_pattern = os.path.join(directory_path, pattern)\n",
    "\n",
    "    # Get a list of file paths that match the full pattern\n",
    "    file_paths = glob.glob(full_pattern)\n",
    "\n",
    "    # Check if there are any files matching the pattern\n",
    "    if file_paths:\n",
    "        # Iterate through the list of file paths\n",
    "        for file_path in file_paths:\n",
    "            # Delete each file\n",
    "            os.remove(file_path)\n",
    "            print(f\"{file_path} has been deleted.\")\n",
    "    else:\n",
    "        print(f\"No files matching the pattern {pattern} were found in {directory_path}.\")\n",
    "\n",
    "\n",
    "def get_energy(filename):\n",
    "    with open(filename, 'r') as f:\n",
    "        lines = f.readlines()\n",
    "\n",
    "    energy_pattern = re.compile(r\"TOTAL ENERGY =\\s+([-+]?\\d*\\.\\d+|\\d+)\")\n",
    "    energies = []\n",
    "    for line in lines:\n",
    "        match = energy_pattern.search(line)\n",
    "        if match:\n",
    "            energy = float(match.group(1))\n",
    "            energies.append(energy)\n",
    "    \n",
    "    \n",
    "    if energies:\n",
    "        print(\"Final Energies:\")\n",
    "        for i, energy in enumerate(energies, start=1):\n",
    "            print(f\"Run {i}: {energy} Hartree\")\n",
    "    else:\n",
    "        print(\"No energy information found in the output file.\")\n",
    "    \n",
    "    \n",
    "    return energies"
   ]
  },
  {
   "cell_type": "code",
   "execution_count": 27,
   "id": "70af6d97-2df9-4ef8-bf6c-94d4813db072",
   "metadata": {},
   "outputs": [
    {
     "data": {
      "application/vnd.jupyter.widget-view+json": {
       "model_id": "35422ecf5faf4da99e5d6f5e5fb5749f",
       "version_major": 2,
       "version_minor": 0
      },
      "text/plain": [
       "WeasWidget(atomScales=[1, 1, 1], atoms={'species': {'H': ['H', 1]}, 'cell': [0.0, 0.0, 0.0, 0.0, 0.0, 0.0, 0.0…"
      ]
     },
     "execution_count": 27,
     "metadata": {},
     "output_type": "execute_result"
    }
   ],
   "source": [
    "# pull up GUI for design\n",
    "symbols = ['H', 'H', 'H']\n",
    "positions = [[0, 0, 0], [0, 0, 0.98], [0, 0, 1.9]]\n",
    "\n",
    "atoms= Atoms(symbols=symbols, positions=positions)\n",
    "\n",
    "\n",
    "viewer = WeasWidget()\n",
    "viewer.from_ase(atoms)\n",
    "viewer\n",
    "\n",
    "#atom manipulation:\n",
    "# click atom or group (using the shift key)\n",
    "# to move press \"g\" then do the motion\n",
    "#to rotate press \"r\" then do the motion\n",
    "# to duplicate press \"d\" \n",
    "# to delete press the delete key"
   ]
  },
  {
   "cell_type": "code",
   "execution_count": 28,
   "id": "6f00e6c6-dc82-4db9-bc9f-f1b1f67a6d22",
   "metadata": {},
   "outputs": [],
   "source": [
    "# store information\n",
    "atoms=viewer.to_ase()\n"
   ]
  },
  {
   "cell_type": "code",
   "execution_count": 29,
   "id": "050de579-b5da-4e20-b455-5877770d9122",
   "metadata": {},
   "outputs": [
    {
     "name": "stdout",
     "output_type": "stream",
     "text": [
      "H3hessian.out has been deleted.\n",
      "No files matching the pattern H3hessian.* were found in /scratch/cmuhich/gamess/restart.\n",
      "/home/cmuhich/gamess_scr/H3hessian.rst has been deleted.\n",
      "/home/cmuhich/gamess_scr/H3hessian.dat has been deleted.\n",
      "cp ./H3hessian.inp /scratch/cmuhich/gamess_scr/H3hessian.F05\n",
      "unset echo\n",
      "/home/onwokonk/gamess_basic/ddikick.x /home/onwokonk/gamess_basic/gamess.00.x H3hessian -ddi 1 4 c008.sol.rc.asu.edu:cpus=4 -scr /scratch/cmuhich/gamess_scr\n",
      "Note: The following floating-point exceptions are signalling: IEEE_UNDERFLOW_FLAG IEEE_DENORMAL\n",
      "Note: The following floating-point exceptions are signalling: IEEE_UNDERFLOW_FLAG IEEE_DENORMAL\n",
      "Note: The following floating-point exceptions are signalling: IEEE_UNDERFLOW_FLAG IEEE_DENORMAL\n",
      "Note: The following floating-point exceptions are signalling: IEEE_UNDERFLOW_FLAG IEEE_DENORMAL\n",
      "unset echo\n",
      "ls: No match.\n",
      "ls: No match.\n",
      "ls: No match.\n"
     ]
    }
   ],
   "source": [
    "#make calcuation choices\n",
    "calc = GAMESSUS(contrl=dict(scftyp='rohf', dfttyp='blyp', runtyp='Hessian', mult=2),\n",
    "                basis=dict(gbasis='n31', ngauss=6, ndfunc=1, npfunc=1),\n",
    "                force=dict( METHOD='SEMINUM') )\n",
    "\n",
    "\n",
    "#select name and run job\n",
    "\n",
    "name='H3hessian'\n",
    "namein= name + '.inp'\n",
    "nameout= name + '.out'\n",
    "\n",
    "\n",
    "atoms.set_calculator(calc)\n",
    "calc.write_input( atoms)\n",
    "! mv gamess_us.inp $namein\n",
    "\n",
    "clean_for_new_job(name)\n",
    "\n",
    "! ~/bin/rungms_basic $namein 00 $ncor > $nameout"
   ]
  },
  {
   "cell_type": "code",
   "execution_count": 30,
   "id": "48f83780-6e9a-4fb5-9c77-a5c41e2d904a",
   "metadata": {},
   "outputs": [
    {
     "name": "stdout",
     "output_type": "stream",
     "text": [
      "       FREQUENCY:      1141.94 I      0.02        0.02        0.16      235.11  \n",
      "       FREQUENCY:       235.11     1042.58     1042.58     2023.18  \n",
      "   1 IMAGINARY FREQUENCY VIBRATION(S) IS(ARE) EXCLUDED\n",
      "    IR INTENSITY:      1.39401     0.00000     0.00000     0.00000     0.00035\n",
      "    IR INTENSITY:      0.00035     0.02121     0.02121     0.09653\n"
     ]
    }
   ],
   "source": [
    "#this will tell you the frequencies in cm-1\n",
    "! grep 'FREQUENCY' $nameout\n",
    "\n",
    "!grep 'IR INTENSITY' $nameout"
   ]
  },
  {
   "cell_type": "code",
   "execution_count": 33,
   "id": "15c3fac7-d913-4491-942f-d9e43694a38c",
   "metadata": {},
   "outputs": [
    {
     "name": "stdout",
     "output_type": "stream",
     "text": [
      "H3_tst.out has been deleted.\n",
      "No files matching the pattern H3_tst.* were found in /scratch/cmuhich/gamess/restart.\n",
      "/home/cmuhich/gamess_scr/H3_tst.rst has been deleted.\n",
      "/home/cmuhich/gamess_scr/H3_tst.dat has been deleted.\n",
      "cp ./H3_tst.inp /scratch/cmuhich/gamess_scr/H3_tst.F05\n",
      "unset echo\n",
      "/home/onwokonk/gamess_basic/ddikick.x /home/onwokonk/gamess_basic/gamess.00.x H3_tst -ddi 1 4 c008.sol.rc.asu.edu:cpus=4 -scr /scratch/cmuhich/gamess_scr\n",
      "Note: The following floating-point exceptions are signalling: IEEE_UNDERFLOW_FLAG IEEE_DENORMAL\n",
      "Note: The following floating-point exceptions are signalling: IEEE_UNDERFLOW_FLAG IEEE_DENORMAL\n",
      "Note: The following floating-point exceptions are signalling: IEEE_UNDERFLOW_FLAG IEEE_DENORMAL\n",
      "Note: The following floating-point exceptions are signalling: IEEE_UNDERFLOW_FLAG IEEE_DENORMAL\n",
      "unset echo\n",
      "ls: No match.\n",
      "ls: No match.\n",
      "ls: No match.\n"
     ]
    }
   ],
   "source": [
    "#restart calcuation as a transtion search\n",
    "\n",
    "calc = GAMESSUS(contrl=dict(scftyp='rohf', dfttyp='blyp', runtyp='SADPOINT', mult=2),\n",
    "                basis=dict(gbasis='n31', ngauss=6, ndfunc=1, npfunc=1),\n",
    "                force=dict( METHOD='SEMINUM'),\n",
    "                statpt=dict(nstep=20, hess='calc', HSSEND='.TRUE.'))\n",
    "\n",
    "\n",
    "#select name and run job\n",
    "\n",
    "name='H3_tst'\n",
    "namein= name + '.inp'\n",
    "nameout= name + '.out'\n",
    "\n",
    "\n",
    "atoms.set_calculator(calc)\n",
    "calc.write_input( atoms)\n",
    "! mv gamess_us.inp $namein\n",
    "\n",
    "clean_for_new_job(name)\n",
    "\n",
    "! ~/bin/rungms_basic $namein 00 $ncor > $nameout"
   ]
  },
  {
   "cell_type": "code",
   "execution_count": 35,
   "id": "a7ddd486-0503-43df-b3ab-06d4cbabf33c",
   "metadata": {},
   "outputs": [
    {
     "data": {
      "application/vnd.jupyter.widget-view+json": {
       "model_id": "35422ecf5faf4da99e5d6f5e5fb5749f",
       "version_major": 2,
       "version_minor": 0
      },
      "text/plain": [
       "WeasWidget(atomScales=[1, 1, 1], atoms={'species': {'H': ['H', 1]}, 'cell': [0.0, 0.0, 0.0, 0.0, 0.0, 0.0, 0.0…"
      ]
     },
     "execution_count": 35,
     "metadata": {},
     "output_type": "execute_result"
    }
   ],
   "source": [
    "atom = ase.io.read(nameout)\n",
    "viewer.from_ase(atom)\n",
    "viewer"
   ]
  },
  {
   "cell_type": "code",
   "execution_count": 34,
   "id": "48167a14-0693-47f6-b7b4-0bc7f397832e",
   "metadata": {},
   "outputs": [
    {
     "name": "stdout",
     "output_type": "stream",
     "text": [
      "       FREQUENCY:       819.06 I     26.65       26.65        0.01        0.01  \n",
      "       FREQUENCY:         0.46      987.47      987.47     2059.95  \n",
      "   1 IMAGINARY FREQUENCY VIBRATION(S) IS(ARE) EXCLUDED\n",
      "    IR INTENSITY:      1.78258     0.00000     0.00000     0.00000     0.00000\n",
      "    IR INTENSITY:      0.00000     0.02206     0.02206     0.00003\n",
      "        0.009192 HARTREE/MOLECULE     2017.446020 CM**-1/MOLECULE \n",
      "        5.768173 KCAL/MOL               24.134038 KJ/MOL\n",
      "\n",
      "               Q               LN Q\n",
      " ELEC.     2.00000E+00       0.693147\n",
      " TRANS.    2.06639E+05      12.238731\n",
      " ROT.      1.08277E+01       2.382104\n",
      " VIB.      1.01731E+00       0.017162\n",
      " TOT.      4.55231E+06      15.331145\n",
      "\n",
      "              E         H         G         CV        CP        S\n",
      "           KJ/MOL    KJ/MOL    KJ/MOL   J/MOL-K   J/MOL-K   J/MOL-K\n",
      " ELEC.      0.000     0.000    -1.718     0.000     0.000     5.763\n",
      " TRANS.     3.718     6.197   -30.339    12.472    20.786   122.544\n",
      " ROT.       2.479     2.479    -5.905     8.314     8.314    28.120\n",
      " VIB.      24.338    24.338    24.091     3.313     3.313     0.828\n",
      " TOTAL     30.536    33.015   -13.871    24.099    32.413   157.255\n",
      " VIB. THERMAL CORRECTION E(T)-E(0) = H(T)-H(0) =       204.223 J/MOL\n",
      "\n",
      "              E         H         G         CV        CP        S\n",
      "         KCAL/MOL  KCAL/MOL  KCAL/MOL CAL/MOL-K CAL/MOL-K CAL/MOL-K\n",
      " ELEC.      0.000     0.000    -0.411     0.000     0.000     1.377\n",
      " TRANS.     0.889     1.481    -7.251     2.981     4.968    29.289\n",
      " ROT.       0.592     0.592    -1.411     1.987     1.987     6.721\n",
      " VIB.       5.817     5.817     5.758     0.792     0.792     0.198\n",
      " TOTAL      7.298     7.891    -3.315     5.760     7.747    37.585\n",
      " VIB. THERMAL CORRECTION E(T)-E(0) = H(T)-H(0) =        48.810 CAL/MOL\n",
      " ......END OF NORMAL COORDINATE ANALYSIS......\n",
      " CPU     0: STEP CPU TIME=     0.00 TOTAL CPU TIME=          8.0 (      0.1 MIN)\n",
      " TOTAL WALL CLOCK TIME=         15.1 SECONDS, CPU UTILIZATION IS    53.09%\n"
     ]
    }
   ],
   "source": [
    "#this will tell you the frequencies in cm-1\n",
    "! grep 'FREQUENCY' $nameout\n",
    "\n",
    "! grep 'IR INTENSITY' $nameout\n",
    "\n",
    "! grep -C 10 'E         H         G         CV        CP        S' $nameout"
   ]
  },
  {
   "cell_type": "code",
   "execution_count": null,
   "id": "5dada75e-aaf0-4408-b9d9-3c962aab5f9c",
   "metadata": {},
   "outputs": [],
   "source": []
  }
 ],
 "metadata": {
  "kernelspec": {
   "display_name": "Python 3 (ipykernel)",
   "language": "python",
   "name": "python3"
  },
  "language_info": {
   "codemirror_mode": {
    "name": "ipython",
    "version": 3
   },
   "file_extension": ".py",
   "mimetype": "text/x-python",
   "name": "python",
   "nbconvert_exporter": "python",
   "pygments_lexer": "ipython3",
   "version": "3.11.6"
  }
 },
 "nbformat": 4,
 "nbformat_minor": 5
}
