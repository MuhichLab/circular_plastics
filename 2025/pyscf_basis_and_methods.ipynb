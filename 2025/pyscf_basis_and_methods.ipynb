{
 "cells": [
  {
   "cell_type": "code",
   "execution_count": null,
   "id": "6713d9be-209d-41db-995e-4485befa1b2d",
   "metadata": {},
   "outputs": [],
   "source": [
    "#this notebook demonstrates baseis concepts in quantum chemsitry, namely effects of methods and basis sets"
   ]
  },
  {
   "cell_type": "code",
   "execution_count": null,
   "id": "8d5280db-2f8a-4458-89ff-6412b10c9359",
   "metadata": {},
   "outputs": [],
   "source": [
    "#this cell initializes inbuilt functions\n",
    "\n",
    "import numpy as np\n",
    "import matplotlib.pyplot as plt\n",
    "from pyscf import gto, scf, dft, mp, cc, tools\n",
    "import ase\n",
    "from ase import Atoms\n",
    "from ase.build import molecule\n",
    "from ase.visualize import view\n",
    "\n",
    "from weas_widget import WeasWidget\n",
    "\n",
    "\n",
    "def ase_to_pyscf(atoms, basis='sto-3g'):\n",
    "    mol = gto.Mole()\n",
    "    mol.atom = \"\\n\".join(f\"{atom.symbol} {pos[0]} {pos[1]} {pos[2]}\" for atom, pos in zip(atoms, atoms.positions))\n",
    "    mol.basis = basis\n",
    "    mol.build()\n",
    "    return mol\n",
    "\n",
    "\n",
    "# Convert PySCF molecule to ASE Atoms object for visualization\n",
    "def pyscf_to_ase(mol):\n",
    "    symbols = [atom[0] for atom in mol.atom_coords()]  # Get element symbols\n",
    "    positions = mol.atom_coords()  # Get atomic positions\n",
    "    return Atoms(symbols=symbols, positions=positions)"
   ]
  },
  {
   "cell_type": "code",
   "execution_count": null,
   "id": "777fa8ed-a23b-4af7-8aef-a3f7b03a47ea",
   "metadata": {},
   "outputs": [],
   "source": [
    "# Interactive ASE visualization and conversion back to PySCF\n",
    "atoms = molecule(\"C6H6\")  # Example molecule (benzene)\n",
    "viewer = WeasWidget()\n",
    "viewer.from_ase(atoms)\n",
    "viewer"
   ]
  },
  {
   "cell_type": "code",
   "execution_count": null,
   "id": "347dad46-169c-41d4-9df9-2372b669d667",
   "metadata": {},
   "outputs": [],
   "source": [
    "#this box brings the molecule back into the work space, and sets up the calcuation\n",
    "\n",
    "atoms = viewer.to_ase()\n",
    "mol = ase_to_pyscf(atoms, 'sto-3g')\n",
    "\n"
   ]
  },
  {
   "cell_type": "code",
   "execution_count": null,
   "id": "665acece-2c23-4689-adfe-5ce408ee1fe9",
   "metadata": {},
   "outputs": [],
   "source": [
    "#this box examines effects of different functionals\n",
    "\n",
    "# Hartree-Fock Calculation\n",
    "hf = scf.RHF(mol)\n",
    "ehf = hf.kernel()\n",
    "print(f\"Hartree-Fock Energy: {ehf:.6f} Ha\")\n",
    "\n",
    "# DFT Calculation (B3LYP Functional)\n",
    "dft_calc = dft.RKS(mol)\n",
    "dft_calc.xc = 'b3lyp'\n",
    "edft = dft_calc.kernel()\n",
    "print(f\"DFT (B3LYP) Energy: {edft:.6f} Ha\")\n",
    "\n",
    "# MP2 Calculation\n",
    "mp2_calc = mp.MP2(hf)\n",
    "emp2, _ = mp2_calc.kernel()\n",
    "print(f\"MP2 Correlation Energy: {emp2:.6f} Ha\")\n",
    "print(f\"Total MP2 Energy: {ehf + emp2:.6f} Ha\")"
   ]
  },
  {
   "cell_type": "code",
   "execution_count": null,
   "id": "907d3f08-0516-4dc2-8a33-4ad61ae8af82",
   "metadata": {},
   "outputs": [],
   "source": [
    "# Basis Set Comparison\n",
    "basis_sets = ['sto-3g', '6-31g', 'cc-pvdz']\n",
    "energies = []\n",
    "for basis in basis_sets:\n",
    "    mol.basis = basis\n",
    "    mol.build()\n",
    "    hf = scf.RHF(mol).run()\n",
    "    energies.append(hf.e_tot)\n",
    "\n",
    "plt.figure()\n",
    "plt.plot(basis_sets, energies, marker='o')\n",
    "plt.xlabel('Basis Set')\n",
    "plt.ylabel('Total Energy (Ha)')\n",
    "plt.title('Basis Set Effect on Energy')\n",
    "plt.show()"
   ]
  },
  {
   "cell_type": "code",
   "execution_count": null,
   "id": "ac34693b-424f-40f2-8342-71a441a84042",
   "metadata": {},
   "outputs": [],
   "source": []
  }
 ],
 "metadata": {
  "kernelspec": {
   "display_name": "Python 3 (ipykernel)",
   "language": "python",
   "name": "python3"
  },
  "language_info": {
   "codemirror_mode": {
    "name": "ipython",
    "version": 3
   },
   "file_extension": ".py",
   "mimetype": "text/x-python",
   "name": "python",
   "nbconvert_exporter": "python",
   "pygments_lexer": "ipython3",
   "version": "3.12.9"
  }
 },
 "nbformat": 4,
 "nbformat_minor": 5
}
