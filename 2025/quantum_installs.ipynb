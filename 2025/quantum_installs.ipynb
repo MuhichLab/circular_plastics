{
 "cells": [
  {
   "cell_type": "code",
   "execution_count": null,
   "id": "f8561a20-8462-49ae-818c-689f31572497",
   "metadata": {},
   "outputs": [],
   "source": [
    "#This notebook will install all nessisary programs. Please run each cell"
   ]
  },
  {
   "cell_type": "code",
   "execution_count": null,
   "id": "0d9a3ad5-84a9-4406-85e1-d14906424ea1",
   "metadata": {},
   "outputs": [],
   "source": [
    "pip install --prefer-binary pyscf[all]"
   ]
  },
  {
   "cell_type": "code",
   "execution_count": null,
   "id": "d0b7321f-32b8-4c72-8438-52411266d918",
   "metadata": {},
   "outputs": [],
   "source": [
    "pip install --upgrade ase\n"
   ]
  },
  {
   "cell_type": "code",
   "execution_count": null,
   "id": "05a5987e-9421-42c0-be3e-6da2cb6d64cc",
   "metadata": {},
   "outputs": [],
   "source": [
    "pip install weas_widget\n"
   ]
  },
  {
   "cell_type": "code",
   "execution_count": null,
   "id": "f616ff43-a82b-4cd1-9ba6-a8a5e2091bd6",
   "metadata": {},
   "outputs": [],
   "source": []
  }
 ],
 "metadata": {
  "kernelspec": {
   "display_name": "Python 3 (ipykernel)",
   "language": "python",
   "name": "python3"
  },
  "language_info": {
   "codemirror_mode": {
    "name": "ipython",
    "version": 3
   },
   "file_extension": ".py",
   "mimetype": "text/x-python",
   "name": "python",
   "nbconvert_exporter": "python",
   "pygments_lexer": "ipython3",
   "version": "3.12.9"
  }
 },
 "nbformat": 4,
 "nbformat_minor": 5
}
